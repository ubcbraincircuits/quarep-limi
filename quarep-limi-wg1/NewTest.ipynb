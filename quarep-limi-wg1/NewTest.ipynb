{
 "cells": [
  {
   "cell_type": "code",
   "execution_count": 1,
   "metadata": {},
   "outputs": [
    {
     "name": "stdout",
     "output_type": "stream",
     "text": [
      "[False  True  True  True False False False False  True False False  True\n",
      " False  True  True False  True  True False  True  True False False  True\n",
      "  True False  True  True False False False  True  True False False False\n",
      " False  True False False False  True  True False  True False False False\n",
      " False False False False False False  True  True  True  True False  True\n",
      " False False  True False  True  True  True False False False False False\n",
      " False False False  True False False  True False  True False False False\n",
      "  True False False False False False False False  True False False False\n",
      " False False  True False]\n",
      "[0.22938904 1.48287222 1.81380324 0.52760255 0.49536945 0.24124162\n",
      " 0.43187418 0.69111076 0.96498904 0.21396877 1.17595829 0.31794057\n",
      " 2.17623152 0.95880404 1.23022965 0.84459502 1.1249989  0.80650329\n",
      " 0.2276947  0.97947523 0.22159112 0.97717022 0.23506065 0.30714635\n",
      " 0.95606577 1.71626478 1.42376688 0.73926487 2.10233579 1.32945709\n",
      " 1.5162758  1.27223289 0.55033095 1.15436349 1.41130502 0.58778778]\n",
      "[ 0.17011012  0.22938904  1.48287222  1.81380324 -0.25997478 -0.8114928\n",
      " -0.38527487 -1.44136346  0.52760255 -1.67074906 -1.20397578  0.49536945\n",
      " -1.52625792  0.24124162  0.43187418 -0.75032937  0.69111076  0.96498904\n",
      " -0.99566485  0.21396877  1.17595829  0.12117335  0.06523494  0.31794057\n",
      "  2.17623152 -0.61802126  0.95880404  1.23022965 -0.7364576  -1.15562211\n",
      " -1.95285471  0.84459502  1.1249989   0.17308717 -0.23483813 -0.41184656\n",
      " -0.33162324  0.80650329 -1.43046893 -0.90508169 -1.63199761  0.2276947\n",
      "  0.97947523 -0.26862531  0.22159112 -0.60173207 -0.09874948 -1.5858472\n",
      "  0.13276677 -0.66362364  0.02666615 -0.6502839  -0.44852504 -1.13656426\n",
      "  0.97717022  0.23506065  0.30714635  0.95606577 -0.28302969  1.71626478\n",
      " -1.44648249 -0.4807389   1.42376688  0.07012653  0.73926487  2.10233579\n",
      "  1.32945709 -0.725959   -1.00393377 -0.04098288 -0.60077306  0.17910407\n",
      " -1.86583554 -0.44072839 -0.15034763  1.5162758  -1.6416038  -0.56081316\n",
      "  1.27223289  0.11599334  0.55033095 -0.32097223  0.05029927 -1.28296349\n",
      "  1.15436349 -0.2589999  -0.01765365 -0.82072991 -1.55729143  0.16630436\n",
      " -0.92864776 -0.56623966  1.41130502  0.09944105 -1.55466418 -0.04538363\n",
      " -1.75359599 -0.76472605  0.58778778 -0.98244419]\n"
     ]
    }
   ],
   "source": [
    "import numpy as np\n",
    "data = np.random.randn(100)\n",
    "\n",
    "above = data > 0.2 \n",
    "print (above)\n",
    "print (data[above])\n",
    "print (data)"
   ]
  }
 ],
 "metadata": {
  "kernelspec": {
   "display_name": "Python 3",
   "language": "python",
   "name": "python3"
  },
  "language_info": {
   "codemirror_mode": {
    "name": "ipython",
    "version": 3
   },
   "file_extension": ".py",
   "mimetype": "text/x-python",
   "name": "python",
   "nbconvert_exporter": "python",
   "pygments_lexer": "ipython3",
   "version": "3.8.6"
  }
 },
 "nbformat": 4,
 "nbformat_minor": 4
}
